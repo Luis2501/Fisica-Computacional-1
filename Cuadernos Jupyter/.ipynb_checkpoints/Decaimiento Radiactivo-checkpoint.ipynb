{
 "cells": [
  {
   "cell_type": "markdown",
   "metadata": {},
   "source": [
    "# Decaimiento Radiactivo"
   ]
  },
  {
   "cell_type": "markdown",
   "metadata": {},
   "source": [
    "\n",
    "<div style=\"text-align: justify\">\n",
    "Es bien sabido que muchos núcleos son inestables. Un ejemplo típico es el isótopo nuclear $^{235} U$ (el núcleo de uranio que contiene 143 neutrones y 92 protones), el cual tiene una pequeña pero no insignificante probabilidad de descomponerse en dos núcleos de aproximadamente la mitad de su tamaño, junto con una variedad de protones, neutrones, electrones y partículas alfa. Una forma de describir tal proceso sería obtener el tiempo promedio de desintegración.\n",
    "</div>\n",
    "\n",
    "<br>\n",
    "\n",
    "<div style=\"text-align: justify\">\n",
    "Si $N_U (t)$ es el numero de núcleos de uranio que están presentes en una muestra al tiempo $t$, la ecuación diferencial que modela este proceso es\n",
    "</div>\n",
    "    \n",
    "$$\\frac{dN_{U}}{dt} = - \\frac{N_{U}}{\\tau}$$\n",
    "\n",
    "<div style=\"text-align: justify\">\n",
    "donde $\\tau$ es el tiempo constante para el decaimiento. Se puede observar que la solución es\n",
    "</div>\n",
    "\n",
    "$$N_U = N_U (0)e^{-t/\\tau}$$\n",
    "\n",
    "<div style=\"text-align: justify\">\n",
    "donde $N_U (0)$ es el número de núcleos presentes en el tiempo $t = 0$.\n",
    "</div>"
   ]
  },
  {
   "cell_type": "markdown",
   "metadata": {},
   "source": [
    "## Aproximación numérica"
   ]
  },
  {
   "cell_type": "markdown",
   "metadata": {},
   "source": [
    "<div style=\"text-align: justify\">\n",
    "Podemos observar que la ecuación diferencial se puede resolver sin recurrir a un enfoque numérico. Sin embargo este problema es útil para introducir algunos métodos computacionales para resolver problemas similares. Dado el valor de $N_{U}$ en un valor particular de $t$, queremos estimar su valor en momentos posteriores. Examinando la expansión Taylor para $N_{U}$\n",
    "</div>\n",
    "    \n",
    "\\begin{equation}\n",
    "N_{U} (t) = N_{U} + \\frac{dN_{U}}{dt} \\Delta t + \\frac{1}{2} \\frac{d^{2} N_{U}}{dt^{2}} (\\Delta t)^{2} + ...\n",
    "\\end{equation}\n",
    "\n",
    "<div style=\"text-align: justify\">\n",
    "donde $N_{U} (0)$ es el valor de la función en el tiempo $t=0$, $N_{U} (\\Delta t)$ es el valor en $t = \\Delta t$. Si tomamos $\\Delta t$ pequeño, entonces es una buena aproximación si se ignoran los términos que involucra potencias dos y mayores. De tal manera que\n",
    "</div>\n",
    "    \n",
    "\\begin{equation}\n",
    "N_{U} (t) \\approx N_{U} + \\frac{dN_{U}}{dt} \\Delta t\n",
    "\\end{equation}\n",
    "\n",
    "<div style=\"text-align: justify\">\n",
    "El mismo resultado puede ser obtenido mediante la definición de derivada y utilizando diferencias finitas. \n",
    "</div>\n",
    "    \n",
    "\\begin{equation}\n",
    "\\frac{dN_{U}}{dt} \\approx  \\frac{N_{U} (t + \\Delta t) - N_{U} (t)}{\\Delta t}\n",
    "\\end{equation}\n",
    "\n",
    "<div style=\"text-align: justify\">\n",
    "donde se asume que $\\Delta t$ es pequeño pero distinto de cero. Despejando obtenemos \n",
    "</div>\n",
    "    \n",
    "\\begin{equation}\n",
    "N_{U} (t + \\Delta t) \\approx N_{U} (t) + \\frac{dN_{U}}{dt} \\Delta t\n",
    "\\end{equation}\n",
    "\n",
    "<div style=\"text-align: justify\">\n",
    "esta última ecuación es equivalente a la ecuación (2.2). Es importante reconocer estas ecuaciones son aproximaciones. Los términos de error que se despreciarón son del orden de $(\\Delta t )^{2}$ pero para otros problemas esto puede cambiar.  Tomando la ecuación diferencial encontrada (1.1) podemos sustituirla en la ecuación anterior de modo que\n",
    "</div>\n",
    "    \n",
    "\\begin{equation}\n",
    "N_{U} (t + \\Delta t) \\approx N_{U} (t) - \\frac{N_{U}}{\\tau} \\Delta t\n",
    "\\end{equation}\n",
    "\n",
    "<div style=\"text-align: justify\">\n",
    "esto forma la base para la solución numérica de nuestro problema de desintegración radiactiva. Debemos observar que el método que hemos utilizado no es más que el <b>método de Euler</b>, el cual se presentó anteriormente.\n",
    "</div>    "
   ]
  },
  {
   "cell_type": "markdown",
   "metadata": {},
   "source": [
    "## Implementación"
   ]
  },
  {
   "cell_type": "markdown",
   "metadata": {},
   "source": [
    "Para empezar el programa, importamos las librerias necesarias para realizar la aproximación numérica."
   ]
  },
  {
   "cell_type": "code",
   "execution_count": 1,
   "metadata": {},
   "outputs": [
    {
     "data": {
      "text/html": [
       "\n",
       "\t<style>\n",
       "\t.output {\n",
       "\t    display: flex;\n",
       "\t    align-items: center;\n",
       "\t    text-align: center;\n",
       "\t}\n",
       "\t</style>\n",
       "\t"
      ],
      "text/plain": [
       "<IPython.core.display.HTML object>"
      ]
     },
     "metadata": {},
     "output_type": "display_data"
    }
   ],
   "source": [
    "import matplotlib.pyplot as plt\n",
    "from EditNotebook import *\n",
    "import numpy as np\n",
    "Edit()"
   ]
  },
  {
   "cell_type": "markdown",
   "metadata": {},
   "source": [
    "Creamos una clase llamada \"Decaimiento\", donde se define la ecuación diferencial a resolver."
   ]
  },
  {
   "cell_type": "code",
   "execution_count": 2,
   "metadata": {},
   "outputs": [],
   "source": [
    "class Decaimiento:\n",
    "\n",
    "    def __init__(self, tau):\n",
    "\n",
    "        self.tau = tau\n",
    "\n",
    "    def __call__(self, u, t):\n",
    "\n",
    "        N, tau = u, self.tau\n",
    "\n",
    "        return -N/tau"
   ]
  },
  {
   "cell_type": "markdown",
   "metadata": {},
   "source": [
    "Mediante el módulo ODEsMethods resolvemos la ecuación diferencial, utilizando el método de Euler. Por último se grafica la solución numérica y la solución analítica"
   ]
  },
  {
   "cell_type": "code",
   "execution_count": 3,
   "metadata": {
    "scrolled": false
   },
   "outputs": [
    {
     "data": {
      "text/plain": [
       "<matplotlib.legend.Legend at 0x7f78b80c9fd0>"
      ]
     },
     "execution_count": 3,
     "metadata": {},
     "output_type": "execute_result"
    },
    {
     "data": {
      "image/png": "[encoded data removed]",
      "text/plain": [
       "<Figure size 576x576 with 1 Axes>"
      ]
     },
     "metadata": {},
     "output_type": "display_data"
    }
   ],
   "source": [
    "from PhysicsPy.ODEsMethods import *\n",
    "\n",
    "Nucleos = Decaimiento(1)\n",
    "N0 = 100\n",
    "\n",
    "Solucion = Euler(Nucleos)\n",
    "Solucion.InitialConditions(N0, [0,5], 0.05)\n",
    "N, t = Solucion.SolveODE()\n",
    "\n",
    "Nu = N0*np.exp(-t/Nucleos.tau)\n",
    "\n",
    "plt.plot(t, N, label = \"Solución Numérica\", color = \"blue\")\n",
    "plt.plot(t, Nu, label = \"Solución Analítica\", color = \"orange\")\n",
    "plt.ylabel(\"Número de núcleos\") ; plt.xlabel(\"Tiempo (s)\")\n",
    "plt.legend() "
   ]
  }
 ],
 "metadata": {
  "hide_input": false,
  "kernelspec": {
   "display_name": "Python 3",
   "language": "python",
   "name": "python3"
  },
  "language_info": {
   "codemirror_mode": {
    "name": "ipython",
    "version": 3
   },
   "file_extension": ".py",
   "mimetype": "text/x-python",
   "name": "python",
   "nbconvert_exporter": "python",
   "pygments_lexer": "ipython3",
   "version": "3.8.3"
  }
 },
 "nbformat": 4,
 "nbformat_minor": 4
}
