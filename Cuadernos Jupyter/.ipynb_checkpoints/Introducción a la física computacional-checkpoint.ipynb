{
 "cells": [
  {
   "cell_type": "markdown",
   "metadata": {},
   "source": [
    "# Introducción a la física computacional"
   ]
  },
  {
   "cell_type": "markdown",
   "metadata": {},
   "source": [
    "<div style=\"text-align: justify\"> \n",
    "Anteriormente, la física se dividía en dos grandes ramas: la física experimental y la física teórica. Sin embargo una nueva rama, la física computacional, ha ganado mucha importancia debido que combina métodos de ambas partes. [1] La física computacional es un subcampo de las ciencia computacional. Es decir, que la física computacional (FC) es una rama multidisciplinaria que combina aspectos de física (F), matemáticas aplicadas (MA) y ciencias de la computación (CC), con el fin de resolver problemas físicos realistas. [2]\n",
    "</div>\n",
    "\n",
    "![alt text](Intro.png \"Representación multidisciplinaria de la física computacional\")\n",
    "\n",
    "<div style=\"text-align: justify\"> \n",
    "En el estudio de los diferentes campos de la física, al establecer modelos matemáticos para el estudio de los fenómenos, es común que no se pueda dar una solución exacta al problema matemático inherente al modelo, por lo que se hace necesario recurrir a soluciones obtenidas mediante el empleo de métodos numéricos a través del uso de computadoras. El campo de la física computacional, requiere conocer no sólo el funcionamiento de las computadoras y sistemas operativos, los temas específicos de física y matemáticas, sino también conocer los algoritmos computacionales involucrados y cómo estos se pueden combinar para realizar un trabajo de forma integral. [3]\n",
    "    \n",
    "</div>"
   ]
  },
  {
   "cell_type": "markdown",
   "metadata": {},
   "source": [
    "## 1. Matemáticas en física computacional "
   ]
  },
  {
   "cell_type": "markdown",
   "metadata": {},
   "source": [
    "<div style=\"text-align: justify\"> \n",
    "La mayoría de los métodos utilizados en física computacional se extraen de tres áreas de la matemáticas: cálculo de diferencias, álgebra lineal, y estocástica. [4] \n",
    "</div>\n",
    "\n",
    "<br>\n",
    "\n",
    "### 1.1 Cálculo de diferencias\n",
    "\n",
    "<br>\n",
    "\n",
    "<div style=\"text-align: justify\"> \n",
    "En física computacional utilizamos diferencias finitas, en oposición a diferencias infinitesimales, esto se debe que muchas leyes físicas son descritas por ecuaciones diferenciales (EDO’s). Para entender a que se refiere el cálculo de diferencias, consideremos $f (x)$ alguna función de un solo variable, en cálculo estándar, se supone que la variable independiente x varía de manera continua, es decir que $x \\in \\mathbb{R}$. En cambio en diferencias finitas la variable $x$ está limitada a un conjunto discreto de valores, es decir que $x_k$ con $k = 1, 2, ...,$ estamos entrando en el reino de las diferencias finitas.\n",
    "</div>\n",
    "\n",
    "<br>\n",
    "\n",
    "### 1.2 Álgebra lineal\n",
    "\n",
    "<br>\n",
    "\n",
    "<div style=\"text-align: justify\"> \n",
    "Aunque en su mayoria el álgebra lineal es bastante abstracta, la teória de matrices no lo es tanto. Las matrices que son importantes en la física computacional muy a menudo tienen una estructura bastante simple. Por ejemplo, empleando el formalismo de diferencias finitas para convertir una ecuación diferencial parcial en un sistema de ecuaciones, terminamos con una matriz de coeficientes que tiene sus elementos distintos de cero concentrada cerca de la diagonal principal.\n",
    "</div>\n",
    "\n",
    "<br>\n",
    "\n",
    "### 1.2 Estocástica\n",
    "\n",
    "<br>\n",
    "\n",
    "<div style=\"text-align: justify\"> \n",
    "En contraste con las otras dos áreas de la física computacional, la estocástica es un producto de la era de las computadoras. El término estocástico se aplica a procesos, algoritmos y modelos en los que existe una secuencia cambiante de eventos analizables probabilísticamente a medida que pasa el tiempo. Uno de los procedimientos estocásticos más utilizados en física computacional es el denominado ”método de Montecarlo”, el cual se popularizó cuando Stanislaw Ulam, Enrico Fermi y Nicholas Metropolis, investigaban acerca del transporte de neutrones a través de un medio no homogéneo, ya sea una bomba atómica o el núcleo de un reactor, que se describe mediante complicadas ecuaciones integro-diferenciales. En lugar de resolver estas ecuaciones de transporte directamente, Metropolis, Fermi, Ulam utilizaron el método de Montecarlo.\n",
    "</div>"
   ]
  },
  {
   "cell_type": "markdown",
   "metadata": {},
   "source": [
    "## 2. Computadoras en la física"
   ]
  },
  {
   "cell_type": "markdown",
   "metadata": {},
   "source": [
    "<div style=\"text-align: justify\"> \n",
    "La computación ha tenido un papel determinante en el desarrollo de la física en las últimas décadas, y es seguro que seguirá teniéndolo. Al referirnos de computación se hace referencia a los ordenadores, que son hoy indispensables para analizar científicamente esas series interminables de datos que generan las grandes instalaciones de aceleradores de partículas y observatorios astronómicos o las redes de estaciones para medidas atmosféricas.\n",
    "Para darnos una idea de la importancia de las computadoras debemos observar como la computación complementa la física experimental (altas energías, astrofísica, meteorología, etc.) de modo crucial. Pero además, la computación es también de mucha importancia en física teórica donde, estudiando modelos algorítmicos de fenómenos físicos, permite resolver problemas que no son tratables analíticamente. [5] \n",
    "</div>\n",
    "\n",
    "<br>\n",
    "\n",
    "### 2.1 Simulaciones en física  \n",
    "\n",
    "<br>\n",
    "\n",
    "<div style=\"text-align: justify\"> \n",
    "Un modelo es una imagen o representación, generalmente incompleta y simplificada de un sistema físico. A partir de un modelo establecido se puede crear una simulación. En 1982 Richard Feynman se preguntó si una computadora universal podria realizar simulaciones físicas, pero ¿a qué nos referimos con simulación?. <br> \n",
    "</div>\n",
    "\n",
    "<br>\n",
    "    \n",
    "<div style=\"text-align: justify\">     \n",
    "Según Feynman ”una especie de simulación aproximada es en la que diseñas algoritmos numéricos, y luego usar la computadora para calcular estos algoritmos y obtener una visión aproximada de lo que la física debe hacer.” Es decir que una simulación tendría que hacer exactamente lo mismo que la naturaleza. [6] Aunque la palabra ”exactamente” es un tanto erronea y Feynman lo sabia por ciertas limitiaciones, como simular el tiempo. Es aun así su definición la más acertada a lo que nos referimos con simulación. Está claro que entonces una simulación computacional no es nada más que una visión aproximada de lo que hace la naturaleza hecha por un ordenador.De esta manera podemos modelar sistemas complejos y saber como se comportarán en ciertas situaciones haciendo una simulación. Las simulaciones computacionales nos permiten “experimentar” con situaciones no accesibles a los sentidos o imposibles de crear en el laboratorio. [7]  \n",
    "</div>\n",
    "\n",
    "<br>\n",
    "\n",
    "<div style=\"text-align: justify\"> \n",
    "Esto implica que la computación ha producido importante información difícilmente obtenible por otros métodos. Ya señalaba Feynman que nuestras mentes no son capaces de entender las implicaciones de nuestras ecuaciones. Es más, parece difícilmente imaginable sin computación haber obtenido todos esos conocimientos.  \n",
    "</div>\n",
    "\n",
    "<br>\n",
    "\n",
    "<div style=\"text-align: justify\"> \n",
    "Por otra parte, una simulación es como estar en un laboratorio (virtual) que nos permite experimentar como si estuvieramos en un laboratorio real, es por eso que la simulación computacional de fenómenos físicos se ha vuelto una herramienta muy util en la enseñanza de la física. Además de eso, al igual que un experimento, una simulación computacional tiene el potencial para apoyar, refutar, o validar una hipótesis. La simulación de los sistemas físicos han sido un avance considerable para poder conseguir resultados sin necesidad de realizar prototipos previos y supone un importante ahorro en los costes de investigación y desarrollo.  \n",
    "</div>\n",
    "\n",
    "<br>\n",
    "\n",
    "<div style=\"text-align: justify\"> \n",
    "Actualmente para realizar estas simulaciones existen muchas herramientas modernas de cómputo\n",
    "simbólico, de cómputo numérico y de visualización científica, que se han convertido en aliados insustituibles, en el estudio de problemas lineales y no lineales interesantes en las ciencias aplicadas. Estas herramientas proporcionan lenguajes de alto nivel para facilitar la modelación y extender el alcance de la mente humana para el estudio y comprensión de los fenómenos. Además, existe una diversidad de herramientas computacionales propietarias y de software libre, que nos permiten trabajar en la modelación matemática de fenómenos físicos y de otras ciencias. Así mismo, el desarrollo de nuevas arquitecturas computacionales para el cómputo de alto rendimiento, facilitan la simulación de problemas mucho más complejos. \n",
    "   \n",
    "</div>"
   ]
  },
  {
   "cell_type": "markdown",
   "metadata": {},
   "source": [
    "## Referencias "
   ]
  },
  {
   "cell_type": "markdown",
   "metadata": {},
   "source": [
    "\n",
    "\n",
    "\n",
    "[1] T.A. Brody. La física computacional. Revista Mexicana de Física 30 No. 3 (1984)\n",
    "513.536  \n",
    "\n",
    "\n",
    "[2] Landau Rubin H; Páez José Manuel; Bordeianu Cristian C. Computational Physics:\n",
    "Problem Solving with Computers (2012), 3rd Ed. eTextBook  \n",
    "\n",
    "\n",
    "[3] Universidad de Sonora, Departamento de física. Presentación de la materia. Física Computacional 1. Obtenido de: http://computacional1.pbworks.com/w/file/fetch/110136598/FisicaCompI2162.pdf\n",
    "\n",
    "\n",
    "[4] Franz J. Vesely (2001). Computational Physics: An introduction, 2da Ed. Springer Scien-\n",
    "ce+Business Media, 3-5.\n",
    "\n",
    "[5] Marro, J. (2000). Fisica y computación. Reporte Interno del Instituto Carlos I de Física\n",
    "Teórica y Computacional.\n",
    "\n",
    "\n",
    "[6] Feynman, RP (1982). Simulating physics with computers. Int. J. Theor. Phys, 21(6/7).  \n",
    "\n",
    "\n",
    "[7] Modelos y simulaciones computacionales en la enseñanza de la Física. Kofman, H. (2000).\n",
    "Revista educación en física, 6, 13-22."
   ]
  }
 ],
 "metadata": {
  "hide_input": false,
  "kernelspec": {
   "display_name": "Python 3",
   "language": "python",
   "name": "python3"
  },
  "language_info": {
   "codemirror_mode": {
    "name": "ipython",
    "version": 3
   },
   "file_extension": ".py",
   "mimetype": "text/x-python",
   "name": "python",
   "nbconvert_exporter": "python",
   "pygments_lexer": "ipython3",
   "version": "3.8.3"
  }
 },
 "nbformat": 4,
 "nbformat_minor": 4
}
